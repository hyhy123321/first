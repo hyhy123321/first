{
 "cells": [
  {
   "cell_type": "markdown",
   "metadata": {},
   "source": [
    "# 基本程序设计\n",
    "- 一切代码输入，请使用英文输入法"
   ]
  },
  {
   "cell_type": "markdown",
   "metadata": {},
   "source": [
    "print ('hello world')"
   ]
  },
  {
   "cell_type": "markdown",
   "metadata": {},
   "source": [
    "## 编写一个简单的程序\n",
    "- 圆公式面积： area = radius \\* radius \\* 3.1415"
   ]
  },
  {
   "cell_type": "markdown",
   "metadata": {},
   "source": [
    "### 在Python里面不需要定义数据的类型"
   ]
  },
  {
   "cell_type": "markdown",
   "metadata": {},
   "source": [
    "## 控制台的读取与输入\n",
    "- input 输入进去的是字符串\n",
    "- eval"
   ]
  },
  {
   "cell_type": "code",
   "execution_count": 3,
   "metadata": {},
   "outputs": [
    {
     "name": "stdout",
     "output_type": "stream",
     "text": [
      "请输入正方形的一条边3\n",
      "9\n"
     ]
    }
   ],
   "source": [
    "bian=int (input('请输入正方形的一条边'))\n",
    "area=bian*bian\n",
    "print(area)"
   ]
  },
  {
   "cell_type": "markdown",
   "metadata": {},
   "source": [
    "- 在jupyter用shift + tab 键可以跳出解释文档"
   ]
  },
  {
   "cell_type": "markdown",
   "metadata": {},
   "source": [
    "## 变量命名的规范\n",
    "- 由字母、数字、下划线构成\n",
    "- 不能以数字开头 \\*\n",
    "- 标识符不能是关键词(实际上是可以强制改变的，但是对于代码规范而言是极其不适合)\n",
    "- 可以是任意长度\n",
    "- 驼峰式命名"
   ]
  },
  {
   "cell_type": "markdown",
   "metadata": {},
   "source": [
    "## 变量、赋值语句和赋值表达式\n",
    "- 变量: 通俗理解为可以变化的量\n",
    "- x = 2 \\* x + 1 在数学中是一个方程，而在语言中它是一个表达式\n",
    "- test = test + 1 \\* 变量在赋值之前必须有值"
   ]
  },
  {
   "cell_type": "markdown",
   "metadata": {},
   "source": [
    "## 同时赋值\n",
    "var1, var2,var3... = exp1,exp2,exp3..."
   ]
  },
  {
   "cell_type": "markdown",
   "metadata": {},
   "source": [
    "## 定义常量\n",
    "- 常量：表示一种定值标识符，适合于多次使用的场景。比如PI\n",
    "- 注意：在其他低级语言中如果定义了常量，那么，该常量是不可以被改变的，但是在Python中一切皆对象，常量也是可以被改变的"
   ]
  },
  {
   "cell_type": "markdown",
   "metadata": {},
   "source": [
    "## 数值数据类型和运算符\n",
    "- 在Python中有两种数值类型（int 和 float）适用于加减乘除、模、幂次\n",
    "<img src = \"../Photo/01.jpg\"></img>"
   ]
  },
  {
   "cell_type": "markdown",
   "metadata": {},
   "source": [
    "## 运算符 /、//、**"
   ]
  },
  {
   "cell_type": "markdown",
   "metadata": {},
   "source": [
    "## 运算符 %"
   ]
  },
  {
   "cell_type": "markdown",
   "metadata": {},
   "source": [
    "## EP：\n",
    "- 25/4 多少，如果要将其转变为整数该怎么改写\n",
    "- 输入一个数字判断是奇数还是偶数\n",
    "- 进阶: 输入一个秒数，写一个程序将其转换成分和秒：例如500秒等于8分20秒\n",
    "- 进阶: 如果今天是星期六，那么10天以后是星期几？ 提示：每个星期的第0天是星期天"
   ]
  },
  {
   "cell_type": "code",
   "execution_count": 6,
   "metadata": {},
   "outputs": [
    {
     "data": {
      "text/plain": [
       "6"
      ]
     },
     "execution_count": 6,
     "metadata": {},
     "output_type": "execute_result"
    }
   ],
   "source": [
    "25//4"
   ]
  },
  {
   "cell_type": "code",
   "execution_count": 61,
   "metadata": {},
   "outputs": [
    {
     "name": "stdout",
     "output_type": "stream",
     "text": [
      ">>5\n",
      "数字5是奇数\n"
     ]
    }
   ],
   "source": [
    "num=eval(input('>>'))\n",
    "if num % 2 == 0:\n",
    "    print('数字'+str(num)+'是偶数')\n",
    "else:\n",
    "    print('数字'+str(num)+'是奇数')"
   ]
  },
  {
   "cell_type": "code",
   "execution_count": 9,
   "metadata": {},
   "outputs": [
    {
     "name": "stdout",
     "output_type": "stream",
     "text": [
      "请输入一个秒数500\n",
      "8 分 20 秒\n"
     ]
    }
   ],
   "source": [
    "second =eval(input('请输入一个秒数'))\n",
    "fen=second//60\n",
    "second=second%60\n",
    "print (fen,'分',second,'秒')"
   ]
  },
  {
   "cell_type": "code",
   "execution_count": 12,
   "metadata": {},
   "outputs": [
    {
     "name": "stdout",
     "output_type": "stream",
     "text": [
      "今天星期：5\n",
      "10天以后为星期： 1\n"
     ]
    }
   ],
   "source": [
    "day=eval(input('今天星期：'))\n",
    "tenday=(day+10)%7\n",
    "print('10天以后为星期：',tenday)"
   ]
  },
  {
   "cell_type": "markdown",
   "metadata": {},
   "source": [
    "## 科学计数法\n",
    "- 1.234e+2\n",
    "- 1.234e-2"
   ]
  },
  {
   "cell_type": "markdown",
   "metadata": {},
   "source": [
    "## 计算表达式和运算优先级\n",
    "<img src = \"../Photo/02.png\"></img>\n",
    "<img src = \"../Photo/03.png\"></img>"
   ]
  },
  {
   "cell_type": "code",
   "execution_count": 14,
   "metadata": {},
   "outputs": [
    {
     "name": "stdout",
     "output_type": "stream",
     "text": [
      "38.699999999999996\n"
     ]
    }
   ],
   "source": [
    "x,y,a,b,c=10,6,0,1,1\n",
    "f=(3+4*x)/5\n",
    "s=10*(y-5)*(a+b+c)/x\n",
    "t=9*((4/x)+((9+x)/y))\n",
    "print(f-s+t)"
   ]
  },
  {
   "cell_type": "markdown",
   "metadata": {},
   "source": [
    "## 增强型赋值运算\n",
    "<img src = \"../Photo/04.png\"></img>"
   ]
  },
  {
   "cell_type": "markdown",
   "metadata": {},
   "source": [
    "## 类型转换\n",
    "- float  -> int\n",
    "- 四舍五入 round"
   ]
  },
  {
   "cell_type": "code",
   "execution_count": 16,
   "metadata": {},
   "outputs": [
    {
     "data": {
      "text/plain": [
       "11.85"
      ]
     },
     "execution_count": 16,
     "metadata": {},
     "output_type": "execute_result"
    }
   ],
   "source": [
    "round((6e-4)*(197.55e+2),2)"
   ]
  },
  {
   "cell_type": "markdown",
   "metadata": {},
   "source": [
    "## EP:\n",
    "- 如果一个年营业税为0.06%，那么对于197.55e+2的年收入，需要交税为多少？(结果保留2为小数)\n",
    "- 必须使用科学计数法"
   ]
  },
  {
   "cell_type": "markdown",
   "metadata": {},
   "source": [
    "# Project\n",
    "- 用Python写一个贷款计算器程序：输入的是月供(monthlyPayment) 输出的是总还款数(totalpayment)\n",
    "![](../Photo/05.png)"
   ]
  },
  {
   "cell_type": "markdown",
   "metadata": {},
   "source": [
    "# Homework\n",
    "- 1\n",
    "<img src=\"python/Photo/Photo/06.png\"></img>"
   ]
  },
  {
   "cell_type": "code",
   "execution_count": 45,
   "metadata": {},
   "outputs": [
    {
     "name": "stdout",
     "output_type": "stream",
     "text": [
      "请输入摄氏度：43\n",
      "当前摄氏温度为: 43 华氏温度为: 109.4\n"
     ]
    }
   ],
   "source": [
    "celsius =eval (input('请输入摄氏度：'))\n",
    "fahreheit = (9/5)*celsius + 32\n",
    "print ('当前摄氏温度为:',celsius,'华氏温度为:',fahreheit)"
   ]
  },
  {
   "cell_type": "markdown",
   "metadata": {},
   "source": [
    "- 2\n",
    "<img src=\"python/Photo/Photo/07.png\"></img>"
   ]
  },
  {
   "cell_type": "code",
   "execution_count": 44,
   "metadata": {},
   "outputs": [
    {
     "name": "stdout",
     "output_type": "stream",
     "text": [
      "请输入圆柱体的半径:5.5\n",
      "请输入圆柱体的高:12\n",
      "圆柱体的底面积为: 95.0332 圆柱体的体积为: 1140.4\n"
     ]
    }
   ],
   "source": [
    "import math\n",
    "radius = eval (input('请输入圆柱体的半径:'))\n",
    "length = eval (input('请输入圆柱体的高:'))\n",
    "area = round(radius*radius*math.pi,4)\n",
    "volume = round(area*length,1)\n",
    "print ('圆柱体的底面积为:',area,'圆柱体的体积为:',volume)"
   ]
  },
  {
   "cell_type": "markdown",
   "metadata": {},
   "source": [
    "- 3\n",
    "<img src=\"python/Photo/Photo/08.png\"></img>"
   ]
  },
  {
   "cell_type": "code",
   "execution_count": 23,
   "metadata": {},
   "outputs": [
    {
     "name": "stdout",
     "output_type": "stream",
     "text": [
      "请输入英尺数:16.5\n",
      "英尺书为: 16.5 转化为 5.0325 米\n"
     ]
    }
   ],
   "source": [
    "feet = eval (input('请输入英尺数:'))\n",
    "meters = feet*0.305\n",
    "print ('英尺数为:',feet,'转化为',meters,'米')"
   ]
  },
  {
   "cell_type": "markdown",
   "metadata": {},
   "source": [
    "- 4\n",
    "<img src=\"python/Photo/Photo/10.png\"></img>"
   ]
  },
  {
   "cell_type": "code",
   "execution_count": 46,
   "metadata": {},
   "outputs": [
    {
     "name": "stdout",
     "output_type": "stream",
     "text": [
      "请输入水量（千克为单位）：55.5\n",
      "请输入水的初始温度：3.5\n",
      "请输入水的最终温度：10.5\n",
      "需要的能量为 1625484.0\n"
     ]
    }
   ],
   "source": [
    "water = eval (input('请输入水量（千克为单位）：'))\n",
    "initialTemperature = eval (input('请输入水的初始温度：'))\n",
    "finalTemperature = eval (input('请输入水的最终温度：'))\n",
    "energy = water*(finalTemperature-initialTemperature)*4184\n",
    "print ('需要的能量为',energy)\n"
   ]
  },
  {
   "cell_type": "markdown",
   "metadata": {},
   "source": [
    "- 5\n",
    "<img src=\"python/Photo/Photo/11.png\"></img>"
   ]
  },
  {
   "cell_type": "code",
   "execution_count": 32,
   "metadata": {},
   "outputs": [
    {
     "name": "stdout",
     "output_type": "stream",
     "text": [
      "请输入差额：1000\n",
      "请输入百分比的年利率：3.5\n",
      "下个月的月供为： 2.91667\n"
     ]
    }
   ],
   "source": [
    "balance = eval (input('请输入差额：'))\n",
    "rate = eval (input('请输入百分比的年利率：'))\n",
    "interest = round(balance*(rate/1200),5)\n",
    "print ('下个月的月供为：',interest)"
   ]
  },
  {
   "cell_type": "markdown",
   "metadata": {},
   "source": [
    "- 6\n",
    "<img src=\"python/Photo/Photo/12.png\"></img>"
   ]
  },
  {
   "cell_type": "code",
   "execution_count": 30,
   "metadata": {},
   "outputs": [
    {
     "name": "stdout",
     "output_type": "stream",
     "text": [
      "请输入以米为单位的初始速度：5.5\n",
      "请输入以米为单位的末速度：50.9\n",
      "请输入以秒为单位速度变化的时间：4.5\n",
      "加速度为 10.0889\n"
     ]
    }
   ],
   "source": [
    "v0 = eval (input('请输入以米为单位的初始速度：'))\n",
    "v1 = eval (input('请输入以米为单位的末速度：'))\n",
    "t = eval (input('请输入以秒为单位速度变化的时间：'))\n",
    "a = round((v1-v0)/t,4)\n",
    "print ('加速度为',a)"
   ]
  },
  {
   "cell_type": "markdown",
   "metadata": {},
   "source": [
    "- 7 进阶\n",
    "<img src=\"python/Photo/Photo/13.png\"></img>"
   ]
  },
  {
   "cell_type": "code",
   "execution_count": 48,
   "metadata": {},
   "outputs": [
    {
     "name": "stdout",
     "output_type": "stream",
     "text": [
      "请输入每月的存款数：100\n",
      "6个月后的总额 608.82\n"
     ]
    }
   ],
   "source": [
    "money =eval (input('请输入每月的存款数：'))\n",
    "first = money*(1+0.00417)\n",
    "second = (money+first)*(1+0.00417)\n",
    "three = (money+second)*(1+0.00417)\n",
    "four = (money+three)*(1+0.00417)\n",
    "five = (money+four)*(1+0.00417)\n",
    "six = round((money+five)*(1+0.00417),2)\n",
    "print ('6个月后的总额',six)"
   ]
  },
  {
   "cell_type": "code",
   "execution_count": 52,
   "metadata": {},
   "outputs": [
    {
     "name": "stdout",
     "output_type": "stream",
     "text": [
      "请输入每月的存款数：100\n",
      "请输入月份：6\n",
      "6个月的总金额为 608.82\n"
     ]
    }
   ],
   "source": [
    "money = eval (input('请输入每月的存款数：'))\n",
    "yue = eval (input('请输入月份：'))\n",
    "x=0\n",
    "yue=0\n",
    "while yue<=5:\n",
    "    x =(x+money)*1.00417\n",
    "    yue +=1\n",
    "print ('6个月的总金额为',round(x,2))\n",
    "   "
   ]
  },
  {
   "cell_type": "markdown",
   "metadata": {},
   "source": [
    "- 8 进阶\n",
    "<img src=\"python/Photo/Photo/14.png\"></img>"
   ]
  },
  {
   "cell_type": "code",
   "execution_count": 38,
   "metadata": {},
   "outputs": [
    {
     "name": "stdout",
     "output_type": "stream",
     "text": [
      "请输入一个0-1000的整数999\n",
      "各位数之和为： 27\n"
     ]
    }
   ],
   "source": [
    "num = eval (input('请输入一个0-1000的整数'))\n",
    "gewei = num % 10\n",
    "shiwei = (num // 10) % 10\n",
    "baiwei = num //100\n",
    "all = gewei+shiwei+baiwei\n",
    "print ('各位数之和为：',all)"
   ]
  }
 ],
 "metadata": {
  "kernelspec": {
   "display_name": "Python 3",
   "language": "python",
   "name": "python3"
  },
  "language_info": {
   "codemirror_mode": {
    "name": "ipython",
    "version": 3
   },
   "file_extension": ".py",
   "mimetype": "text/x-python",
   "name": "python",
   "nbconvert_exporter": "python",
   "pygments_lexer": "ipython3",
   "version": "3.6.4"
  }
 },
 "nbformat": 4,
 "nbformat_minor": 2
}
