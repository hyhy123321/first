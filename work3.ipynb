{
 "cells": [
  {
   "cell_type": "markdown",
   "metadata": {},
   "source": [
    "# 选择\n",
    "## 布尔类型、数值和表达式\n",
    "![](Photo/Photo/33.png)\n",
    "- 注意：比较运算符的相等是两个等到，一个等到代表赋值\n",
    "- 在Python中可以用整型0来代表False，其他数字来代表True\n",
    "- 后面还会讲到 is 在判断语句中的用发"
   ]
  },
  {
   "cell_type": "code",
   "execution_count": 1,
   "metadata": {},
   "outputs": [
    {
     "data": {
      "text/plain": [
       "False"
      ]
     },
     "execution_count": 1,
     "metadata": {},
     "output_type": "execute_result"
    }
   ],
   "source": [
    "10 > 10"
   ]
  },
  {
   "cell_type": "markdown",
   "metadata": {},
   "source": [
    "## 字符串的比较使用ASCII值"
   ]
  },
  {
   "cell_type": "code",
   "execution_count": 2,
   "metadata": {},
   "outputs": [
    {
     "data": {
      "text/plain": [
       "False"
      ]
     },
     "execution_count": 2,
     "metadata": {},
     "output_type": "execute_result"
    }
   ],
   "source": [
    "'a'>'b'"
   ]
  },
  {
   "cell_type": "markdown",
   "metadata": {},
   "source": [
    "## Markdown \n",
    "- https://github.com/younghz/Markdown"
   ]
  },
  {
   "cell_type": "markdown",
   "metadata": {},
   "source": [
    "## EP:\n",
    "- <img src=\"Photo/Photo/34.png\"></img>\n",
    "- 输入一个数字，判断其实奇数还是偶数"
   ]
  },
  {
   "cell_type": "markdown",
   "metadata": {},
   "source": [
    "## 产生随机数字\n",
    "- 函数random.randint(a,b) 可以用来产生一个a和b之间且包括a和b的随机整数"
   ]
  },
  {
   "cell_type": "markdown",
   "metadata": {},
   "source": [
    "##  其他random方法\n",
    "- random.random 返回0.0到1.0之间前闭后开区间的随机浮点\n",
    "- random.randrange(a,b) 前闭后开"
   ]
  },
  {
   "cell_type": "markdown",
   "metadata": {},
   "source": [
    "## EP：\n",
    "- 产生两个随机整数number1和number2，然后显示给用户，使用户输入数字的和，并判定其是否正确\n",
    "- 进阶:写一个随机序号点名程序"
   ]
  },
  {
   "cell_type": "code",
   "execution_count": 46,
   "metadata": {},
   "outputs": [
    {
     "name": "stdout",
     "output_type": "stream",
     "text": [
      "18 22\n",
      ">>30\n",
      "不正确，请重新计算\n",
      ">>40\n",
      "正确\n"
     ]
    }
   ],
   "source": [
    "import random\n",
    "num1 = random.randint(1,50)\n",
    "num2 = random.randint(1,50)\n",
    "he = num1 + num2\n",
    "print(num1,num2)\n",
    "while True:\n",
    "    sum_ = eval(input('>>'))\n",
    "    if sum_ == he:\n",
    "        print('正确')\n",
    "        break\n",
    "    else:\n",
    "        print('不正确，请重新计算')"
   ]
  },
  {
   "cell_type": "markdown",
   "metadata": {},
   "source": [
    "## if语句\n",
    "- 如果条件正确就执行一个单向if语句，亦即当条件为真的时候才执行if内部的语句\n",
    "- Python有很多选择语句:\n",
    "> - 单向if \n",
    "  - 双向if-else\n",
    "  - 嵌套if\n",
    "  - 多向if-elif-else\n",
    "  \n",
    "- 注意：当语句含有子语句的时候，那么一定至少要有一个缩进，也就是说如果有儿子存在，那么一定要缩进\n",
    "- 切记不可tab键和space混用，单用tab 或者 space\n",
    "- 当你输出的结果是无论if是否为真时都需要显示时，语句应该与if对齐"
   ]
  },
  {
   "cell_type": "markdown",
   "metadata": {},
   "source": [
    "## EP：\n",
    "- 用户输入一个数字，判断其实奇数还是偶数\n",
    "- 进阶：可以查看下4.5实例研究猜生日"
   ]
  },
  {
   "cell_type": "markdown",
   "metadata": {},
   "source": [
    "## 双向if-else 语句\n",
    "- 如果条件为真，那么走if内部语句，否则走else内部语句"
   ]
  },
  {
   "cell_type": "markdown",
   "metadata": {},
   "source": [
    "## EP：\n",
    "- 产生两个随机整数number1和number2，然后显示给用户，使用户输入数字，并判定其是否正确,如果正确打印“you‘re correct”，否则打印正确错误"
   ]
  },
  {
   "cell_type": "markdown",
   "metadata": {},
   "source": [
    "## 嵌套if 和多向if-elif-else\n",
    "![](../Photo/35.png)"
   ]
  },
  {
   "cell_type": "markdown",
   "metadata": {},
   "source": [
    "## EP：\n",
    "- 提示用户输入一个年份，然后显示表示这一年的动物\n",
    "![](Photo/Photo/36.png)\n",
    "- 计算身体质量指数的程序\n",
    "- BMI = 以千克为单位的体重除以以米为单位的身高\n",
    "![](Photo/Photo/37.png)"
   ]
  },
  {
   "cell_type": "code",
   "execution_count": 45,
   "metadata": {},
   "outputs": [
    {
     "name": "stdout",
     "output_type": "stream",
     "text": [
      ">>1997\n",
      "牛\n"
     ]
    }
   ],
   "source": [
    "birth = eval(input('>>'))\n",
    "animals = birth % 12\n",
    "if animals == 0:\n",
    "    print('猴')\n",
    "elif animals == 1:\n",
    "    print('鸡')\n",
    "elif animals == 2:\n",
    "    print('狗')\n",
    "elif animals == 3:\n",
    "    print('猪')\n",
    "elif animals == 4:\n",
    "    print('鼠')\n",
    "elif animals == 5:\n",
    "    print('牛')\n",
    "elif animals == 6:\n",
    "    print('虎')\n",
    "elif animals == 7:\n",
    "    print('兔')\n",
    "elif animals == 8:\n",
    "    print('龙')\n",
    "elif animals == 9:\n",
    "    print('蛇')\n",
    "elif animals == 10:\n",
    "    print('马')\n",
    "else:\n",
    "    print('羊')"
   ]
  },
  {
   "cell_type": "markdown",
   "metadata": {},
   "source": [
    "## 逻辑运算符\n",
    "![](../Photo/38.png)"
   ]
  },
  {
   "cell_type": "markdown",
   "metadata": {},
   "source": [
    "![](../Photo/39.png)\n",
    "![](../Photo/40.png)"
   ]
  },
  {
   "cell_type": "markdown",
   "metadata": {},
   "source": [
    "## EP：\n",
    "- 判定闰年：一个年份如果能被4整除但不能被100整除，或者能被400整除，那么这个年份就是闰年\n",
    "- 提示用户输入一个年份，并返回是否是闰年\n",
    "- 提示用户输入一个数字，判断其是否为水仙花数"
   ]
  },
  {
   "cell_type": "markdown",
   "metadata": {},
   "source": [
    "## 实例研究：彩票\n",
    "![](Photo/Photo/41.png)"
   ]
  },
  {
   "cell_type": "code",
   "execution_count": 43,
   "metadata": {},
   "outputs": [
    {
     "name": "stdout",
     "output_type": "stream",
     "text": [
      "75\n",
      ">>11\n",
      "抱歉\n"
     ]
    }
   ],
   "source": [
    "import random\n",
    "\n",
    "sui = random.randint(10,99)\n",
    "print(sui)\n",
    "num_ = eval(input('>>'))\n",
    "shi_ = num_ // 10\n",
    "ge_ = num_ % 10\n",
    "shi = sui // 10\n",
    "ge = sui % 10\n",
    "if (shi_ == shi) and (ge_ == ge):\n",
    "    print('恭喜获得一等奖')\n",
    "elif(shi_ == ge) and (ge_ == shi):\n",
    "    print('恭喜获得二等奖')\n",
    "elif((shi_ == shi)and(shi_ != ge)and(ge_ != shi)and(ge_ != ge))or((shi_ != shi)and(shi_ == ge)and(ge_ != shi)and(ge_ != ge))or((shi_ != shi)and(shi_ != ge)and(ge_ == shi)and(ge_ != ge))or((shi_ != shi)and(shi_ != ge)and(ge_ != shi)and(ge_ == ge))or((shi_ != shi)and(shi_ == ge)and(ge_ != shi)and(ge_ == ge))or((shi_ == shi)and(shi_ != ge)and(ge_ == shi)and(ge_ != ge))or((shi_ == shi)and(shi_ == ge)and(ge_ != shi)and(ge_ != ge))or((shi_ != shi)and(shi_ != ge)and(ge_ == shi)and(ge_ == ge)):\n",
    "    print('恭喜获得三等奖')\n",
    "else:\n",
    "    print('抱歉')"
   ]
  },
  {
   "cell_type": "markdown",
   "metadata": {},
   "source": [
    "# Homework\n",
    "- 1\n",
    "![](Photo/Photo/42.png)"
   ]
  },
  {
   "cell_type": "code",
   "execution_count": 5,
   "metadata": {},
   "outputs": [
    {
     "name": "stdout",
     "output_type": "stream",
     "text": [
      "请输入a,b,c的值1.0,3,1\n",
      "方程有两个实根，分别为 -0.381966 -2.61803\n"
     ]
    }
   ],
   "source": [
    "a,b,c = eval(input('请输入a,b,c的值'))\n",
    "x1 = (-b + (b**2 - 4*a*c)**0.5)/2*a\n",
    "x2 = (-b - (b**2 - 4*a*c)**0.5)/2*a\n",
    "if (b**2 - 4*a*c) > 0:\n",
    "    print('方程有两个实根，分别为',round(x1,6),round(x2,5))\n",
    "elif (b**2 - 4*a*c) == 0:\n",
    "    print('方程有一个实根',x1)\n",
    "else:\n",
    "    print('方程没有实根')"
   ]
  },
  {
   "cell_type": "markdown",
   "metadata": {},
   "source": [
    "- 2\n",
    "![](Photo/Photo/43.png)"
   ]
  },
  {
   "cell_type": "code",
   "execution_count": 10,
   "metadata": {},
   "outputs": [
    {
     "name": "stdout",
     "output_type": "stream",
     "text": [
      "36 56\n",
      "请输入两个随机数的和：50\n",
      "假\n",
      "请输入两个随机数的和：92\n",
      "真\n"
     ]
    }
   ],
   "source": [
    "import random\n",
    "num1 = random.randint(1,99)\n",
    "num2 = random.randint(1,99)\n",
    "all = num1 + num2\n",
    "print(num1,num2)\n",
    "while True:\n",
    "    sum_ = eval(input('请输入两个随机数的和：'))\n",
    "    if sum_ == all:\n",
    "        print('真')\n",
    "        break\n",
    "    else:\n",
    "        print('假')"
   ]
  },
  {
   "cell_type": "markdown",
   "metadata": {},
   "source": [
    "- 3\n",
    "![](Photo/Photo/44.png)"
   ]
  },
  {
   "cell_type": "code",
   "execution_count": 11,
   "metadata": {},
   "outputs": [
    {
     "name": "stdout",
     "output_type": "stream",
     "text": [
      "Enter today is day:0\n",
      "Enter the number of days elapsed since today:31\n",
      "Today is Sunday and the future is Wednesday\n"
     ]
    }
   ],
   "source": [
    "num = eval(input('Enter today is day:'))\n",
    "num_ = eval(input('Enter the number of days elapsed since today:'))\n",
    "if num == 0:\n",
    "    a = 'Sunday'\n",
    "elif num == 1:\n",
    "    a = 'Monday'\n",
    "elif num == 2:\n",
    "    a = 'Tusday'\n",
    "elif num == 3:\n",
    "    a = 'Wednesday'\n",
    "elif num == 4:\n",
    "    a = 'Thurday'\n",
    "elif num == 5:\n",
    "    a = 'Friday'\n",
    "else:\n",
    "    a = 'Saturday'\n",
    "if (num + num_ % 7) == 0:\n",
    "    b = 'Sunday'\n",
    "elif (num + num_ % 7) == 1:\n",
    "    b = 'Monday'\n",
    "elif (num + num_ % 7) == 2:\n",
    "    b = 'Tusday'\n",
    "elif (num + num_ % 7) == 3:\n",
    "    b = 'Wednesday'\n",
    "elif (num + num_ % 7) == 4:\n",
    "    b = 'Thurday'\n",
    "elif (num + num_ % 7) == 5:\n",
    "    b = 'Friday'\n",
    "else:\n",
    "    b = 'Saturday'\n",
    "print('Today is',a,'and the future is',b)"
   ]
  },
  {
   "cell_type": "markdown",
   "metadata": {},
   "source": [
    "- 4\n",
    "![](Photo/Photo/45.png)"
   ]
  },
  {
   "cell_type": "code",
   "execution_count": 14,
   "metadata": {},
   "outputs": [
    {
     "name": "stdout",
     "output_type": "stream",
     "text": [
      "请输入三个整数:5,8,2\n",
      "2 5 8\n"
     ]
    }
   ],
   "source": [
    "a,b,c = eval(input('请输入三个整数:'))\n",
    "min_ = min(a,b,c)\n",
    "max_ = max(a,b,c)\n",
    "middle = a+b+c-(min_+max_)\n",
    "print(min_,middle,max_)"
   ]
  },
  {
   "cell_type": "markdown",
   "metadata": {},
   "source": [
    "- 5\n",
    "![](Photo/Photo/46.png)"
   ]
  },
  {
   "cell_type": "code",
   "execution_count": 17,
   "metadata": {},
   "outputs": [
    {
     "name": "stdout",
     "output_type": "stream",
     "text": [
      "Enter weight and price for package 1:50,24.59\n",
      "Enter weight and price for package 2:25,11.99\n",
      "Package 2 has the better price\n"
     ]
    }
   ],
   "source": [
    "w1,p1 = eval(input('Enter weight and price for package 1:'))\n",
    "w2,p2 = eval(input('Enter weight and price for package 2:'))\n",
    "jg1 = w1 / p1\n",
    "jg2 = w2 / p2\n",
    "if jg1 > jg2:\n",
    "    print('Package 1 has the better price')\n",
    "elif jg1 < jg2:\n",
    "    print('Package 2 has the better price')\n",
    "else:\n",
    "    print('same')"
   ]
  },
  {
   "cell_type": "markdown",
   "metadata": {},
   "source": [
    "- 6\n",
    "![](Photo/Photo/47.png)"
   ]
  },
  {
   "cell_type": "code",
   "execution_count": 22,
   "metadata": {},
   "outputs": [
    {
     "name": "stdout",
     "output_type": "stream",
     "text": [
      "请输入月份和年数：2,2000\n",
      "2000 年的 2 月有29天\n"
     ]
    }
   ],
   "source": [
    "month,year = eval(input('请输入月份和年数：'))\n",
    "if ((year % 4 == 0) and (not year % 100 == 0)) or (year % 400 == 0)and(month == 2):\n",
    "    print(year_,'年的',month,'月有29天')\n",
    "elif(month == 1 or month == 3 or month== 5 or month == 7 or month == 8 or month == 10 or month == 12):\n",
    "    print(year_,'年的',month,'月有31天')\n",
    "elif(month == 2):\n",
    "    print(year,'年的',month,'月有28天')\n",
    "else:\n",
    "    print(year,'年的',month,'月有30天')"
   ]
  },
  {
   "cell_type": "markdown",
   "metadata": {},
   "source": [
    "- 7\n",
    "![](Photo/Photo/48.png)"
   ]
  },
  {
   "cell_type": "code",
   "execution_count": 27,
   "metadata": {},
   "outputs": [
    {
     "name": "stdout",
     "output_type": "stream",
     "text": [
      "请输入一个猜测值：2\n",
      "猜对了\n"
     ]
    }
   ],
   "source": [
    "import random\n",
    "sum = random.randint(1,2)\n",
    "test = eval(input('请输入一个猜测值：'))\n",
    "if sum == test:\n",
    "    print('猜对了')\n",
    "else:\n",
    "    print('猜错了')"
   ]
  },
  {
   "cell_type": "markdown",
   "metadata": {},
   "source": [
    "- 8\n",
    "![](Photo/Photo/49.png)"
   ]
  },
  {
   "cell_type": "code",
   "execution_count": 29,
   "metadata": {},
   "outputs": [
    {
     "name": "stdout",
     "output_type": "stream",
     "text": [
      "scissor(0),scissor(1),scissor(2):1\n",
      "same\n"
     ]
    }
   ],
   "source": [
    "import random\n",
    "num = eval(input('scissor(0),scissor(1),scissor(2):'))\n",
    "num_ = random.randint(0,2)\n",
    "if (num == 0 and num_ == 2)or(num == 1 and num_ == 0)or(num == 2 and num_ == 1):\n",
    "    print('you won')\n",
    "elif num == num_:\n",
    "    print('same')\n",
    "else:\n",
    "    print('you draw')"
   ]
  },
  {
   "cell_type": "markdown",
   "metadata": {},
   "source": [
    "- 9\n",
    "![](Photo/Photo/50.png)"
   ]
  },
  {
   "cell_type": "code",
   "execution_count": 31,
   "metadata": {},
   "outputs": [
    {
     "name": "stdout",
     "output_type": "stream",
     "text": [
      "请输入年份：2012\n",
      "请输入月份：5\n",
      "请输入日期：12\n",
      "Saturday\n"
     ]
    }
   ],
   "source": [
    "year = eval(input('请输入年份：'))\n",
    "month = eval(input('请输入月份：'))\n",
    "day = eval(input('请输入日期：'))\n",
    "year_ = year - 1\n",
    "if month == 1:\n",
    "    x = (day+(26*(13+1)/10)//1+year_%100+(year_%100/4)//1+(((year_/100)//1)/4)//1+5*(year_/100)//1)%7\n",
    "elif month == 2:\n",
    "    x = (day+(26*(14+1)/10)//1+year_%100+(year_%100/4)//1+(((year_/100)//1)/4)//1+5*(year_/100)//1)%7\n",
    "else:\n",
    "    x = (day+(26*(month+1)/10)//1+year%100+(year%100/4)//1+(((year/100)//1)/4)//1+5*(year/100)//1)%7\n",
    "if x  == 0:\n",
    "    print('Saturday')\n",
    "elif x  == 1:\n",
    "    print('Sunday')\n",
    "elif x  == 2:\n",
    "    print('Monday')\n",
    "elif x  == 3:\n",
    "    print('Tuesday')\n",
    "elif x  == 4:\n",
    "    print('Wendesday')\n",
    "elif x  == 5:\n",
    "    print('Thursday')\n",
    "elif x == 6:\n",
    "    print('Friday')\n",
    "else:\n",
    "    pass"
   ]
  },
  {
   "cell_type": "markdown",
   "metadata": {},
   "source": [
    "- 10\n",
    "![](Photo/Photo/51.png)"
   ]
  },
  {
   "cell_type": "code",
   "execution_count": 37,
   "metadata": {},
   "outputs": [
    {
     "name": "stdout",
     "output_type": "stream",
     "text": [
      "您选的牌是 方块 4\n"
     ]
    }
   ],
   "source": [
    "import random\n",
    "x = random.randint(0,12)\n",
    "y = random.randint(0,3)\n",
    "xrr = ['A','2','3','4','5','6','7','8','9','10','J','Q','K']\n",
    "yrr = ['梅花','红桃','方块','黑桃']\n",
    "print('您选的牌是',brr[x],arr[y])"
   ]
  },
  {
   "cell_type": "markdown",
   "metadata": {},
   "source": [
    "- 11\n",
    "![](Photo/Photo/52.png)"
   ]
  },
  {
   "cell_type": "code",
   "execution_count": 40,
   "metadata": {},
   "outputs": [
    {
     "name": "stdout",
     "output_type": "stream",
     "text": [
      "Enter a three-digit integer:121\n",
      "121 is a palindrome\n"
     ]
    }
   ],
   "source": [
    "num = eval(input('Enter a three-digit integer:'))\n",
    "baiwei = num // 100\n",
    "shiwei = (num //10) % 10\n",
    "gewei = num % 10\n",
    "if baiwei == gewei:\n",
    "    print(num,'is a palindrome')\n",
    "else:\n",
    "    print(num,'not a palindrome')"
   ]
  },
  {
   "cell_type": "markdown",
   "metadata": {},
   "source": [
    "- 12\n",
    "![](Photo/Photo/53.png)"
   ]
  },
  {
   "cell_type": "code",
   "execution_count": 42,
   "metadata": {},
   "outputs": [
    {
     "name": "stdout",
     "output_type": "stream",
     "text": [
      "Enter three edges:1,1,1\n",
      "The perimeter： 3\n"
     ]
    }
   ],
   "source": [
    "a,b,c = eval(input('Enter three edges:'))\n",
    "if (a+b>c) and (a+c>b) and (b+c>a):\n",
    "    print('The perimeter：',a+b+c)\n",
    "else:\n",
    "    print('Erro!')"
   ]
  }
 ],
 "metadata": {
  "kernelspec": {
   "display_name": "Python 3",
   "language": "python",
   "name": "python3"
  },
  "language_info": {
   "codemirror_mode": {
    "name": "ipython",
    "version": 3
   },
   "file_extension": ".py",
   "mimetype": "text/x-python",
   "name": "python",
   "nbconvert_exporter": "python",
   "pygments_lexer": "ipython3",
   "version": "3.6.4"
  }
 },
 "nbformat": 4,
 "nbformat_minor": 2
}
