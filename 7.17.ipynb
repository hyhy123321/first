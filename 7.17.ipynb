{
 "cells": [
  {
   "cell_type": "markdown",
   "metadata": {},
   "source": [
    "# 数学函数、字符串和对象\n",
    "## 本章介绍Python函数来执行常见的数学运算\n",
    "- 函数是完成一个特殊任务的一组语句，可以理解为一个函数相当于一个小功能，但是在开发中，需要注意一个函数的长度最好不要超过一屏\n",
    "- Python中的内置函数是不需要Import导入的\n",
    "<img src=\"Photo/Photo/15.png\"></img>"
   ]
  },
  {
   "cell_type": "code",
   "execution_count": 2,
   "metadata": {},
   "outputs": [
    {
     "name": "stdout",
     "output_type": "stream",
     "text": [
      "输入3哥数字以，分隔1,2,3\n",
      "请选择你要执行的方式：max,min,pow2_summax\n",
      "3\n"
     ]
    }
   ],
   "source": [
    "a,b,c=eval(input('输入3哥数字以，分隔'))\n",
    "choose_method = input('请选择你要执行的方式：max,min,pow2_sum')\n",
    "if choose_method == 'max':\n",
    "    max_=max(a,b,c)\n",
    "    print(max_)\n",
    "elif choose_method =='mix':\n",
    "    min_=min(a,b,c)\n",
    "    print(min_)\n",
    "elif choose_method == 'pow2_sum':\n",
    "    pow_sum_=pow(a,2)+pow(b,2)+pow(c,2)\n",
    "    print(pow_sum_)\n"
   ]
  },
  {
   "cell_type": "markdown",
   "metadata": {},
   "source": [
    "## 尝试练习Python内置函数"
   ]
  },
  {
   "cell_type": "markdown",
   "metadata": {},
   "source": [
    "## Python中的math模块提供了许多数学函数\n",
    "<img src=\"Photo/Photo/16.png\"></img>\n",
    "<img src=\"Photo/Photo/17.png\"></img>\n"
   ]
  },
  {
   "cell_type": "code",
   "execution_count": 3,
   "metadata": {},
   "outputs": [
    {
     "data": {
      "text/plain": [
       "0.0"
      ]
     },
     "execution_count": 3,
     "metadata": {},
     "output_type": "execute_result"
    }
   ],
   "source": [
    "import math\n",
    "math.fabs(0)"
   ]
  },
  {
   "cell_type": "code",
   "execution_count": 9,
   "metadata": {},
   "outputs": [
    {
     "data": {
      "image/png": "[encoded data removed]",
      "text/plain": [
       "<matplotlib.figure.Figure at 0x7f2ddf0>"
      ]
     },
     "metadata": {},
     "output_type": "display_data"
    }
   ],
   "source": [
    "import matplotlib.pyplot as plt\n",
    "list_=[]\n",
    "for z in range(-50,50):\n",
    "    res=1./ (1. +math.exp(-z))\n",
    "    list_.append(res)\n",
    "plt.plot(list_)\n",
    "plt.show()"
   ]
  },
  {
   "cell_type": "code",
   "execution_count": 8,
   "metadata": {},
   "outputs": [
    {
     "ename": "SyntaxError",
     "evalue": "invalid syntax (<ipython-input-8-e0327e29a061>, line 2)",
     "output_type": "error",
     "traceback": [
      "\u001b[1;36m  File \u001b[1;32m\"<ipython-input-8-e0327e29a061>\"\u001b[1;36m, line \u001b[1;32m2\u001b[0m\n\u001b[1;33m    random_num=random.randint():\u001b[0m\n\u001b[1;37m                               ^\u001b[0m\n\u001b[1;31mSyntaxError\u001b[0m\u001b[1;31m:\u001b[0m invalid syntax\n"
     ]
    }
   ],
   "source": [
    "import random\n",
    "random_num=random.randint():\n",
    "  res=1./ (1. +math.exp(random_num))\n",
    "res"
   ]
  },
  {
   "cell_type": "markdown",
   "metadata": {},
   "source": [
    "## 两个数学常量PI和e，可以通过使用math.pi 和math.e调用"
   ]
  },
  {
   "cell_type": "markdown",
   "metadata": {},
   "source": [
    "## EP:\n",
    "- 通过math库，写一个程序，使得用户输入三个顶点(x,y)返回三个角度\n",
    "- 注意：Python计算角度为弧度制，需要将其转换为角度\n",
    "<img src=\"Photo/Photo/18.png\">"
   ]
  },
  {
   "cell_type": "code",
   "execution_count": 1,
   "metadata": {},
   "outputs": [
    {
     "data": {
      "text/plain": [
       "98"
      ]
     },
     "execution_count": 1,
     "metadata": {},
     "output_type": "execute_result"
    }
   ],
   "source": [
    "ord ('b')"
   ]
  },
  {
   "cell_type": "markdown",
   "metadata": {},
   "source": [
    "## 字符串和字符\n",
    "- 在Python中，字符串必须是在单引号或者双引号内，在多段换行的字符串中可以使用“”“\n",
    "- 在使用”“”时，给予其变量则变为字符串，否则当多行注释使用"
   ]
  },
  {
   "cell_type": "markdown",
   "metadata": {},
   "source": [
    "## ASCII码与Unicode码\n",
    "- <img src=\"Photo/Photo/19.png\"></img>\n",
    "- <img src=\"Photo/Photo/20.png\"></img>\n",
    "- <img src=\"Photo/Photo/21.png\"></img>"
   ]
  },
  {
   "cell_type": "code",
   "execution_count": 5,
   "metadata": {},
   "outputs": [
    {
     "data": {
      "text/plain": [
       "32463"
      ]
     },
     "execution_count": 5,
     "metadata": {},
     "output_type": "execute_result"
    }
   ],
   "source": [
    "ord ('经')"
   ]
  },
  {
   "cell_type": "raw",
   "metadata": {},
   "source": []
  },
  {
   "cell_type": "markdown",
   "metadata": {},
   "source": [
    "## 函数ord、chr\n",
    "- ord 返回ASCII码值\n",
    "- chr 返回字符"
   ]
  },
  {
   "cell_type": "markdown",
   "metadata": {},
   "source": [
    "## EP:\n",
    "- 利用ord与chr进行简单邮箱加密"
   ]
  },
  {
   "cell_type": "code",
   "execution_count": 18,
   "metadata": {},
   "outputs": [
    {
     "name": "stdout",
     "output_type": "stream",
     "text": [
      ";;?B><@A?J{{8myw"
     ]
    }
   ],
   "source": [
    "email = ('115842675@qq.com')\n",
    "for i in email:\n",
    "    print (chr(ord(i)+10),end='')"
   ]
  },
  {
   "cell_type": "code",
   "execution_count": 20,
   "metadata": {},
   "outputs": [
    {
     "name": "stdout",
     "output_type": "stream",
     "text": [
      ";\n",
      ";;\n",
      ";;?\n",
      ";;?B\n",
      ";;?B>\n",
      ";;?B><\n",
      ";;?B><@\n",
      ";;?B><@A\n",
      ";;?B><@A?\n",
      ";;?B><@A?J\n",
      ";;?B><@A?J{\n",
      ";;?B><@A?J{{\n",
      ";;?B><@A?J{{8\n",
      ";;?B><@A?J{{8m\n",
      ";;?B><@A?J{{8my\n",
      ";;?B><@A?J{{8myw\n"
     ]
    }
   ],
   "source": [
    "email = ('115842675@qq.com')\n",
    "result=''\n",
    "for i in email:\n",
    "    result +=chr(ord(i)+10)\n",
    "    print(result)"
   ]
  },
  {
   "cell_type": "code",
   "execution_count": 28,
   "metadata": {},
   "outputs": [
    {
     "name": "stdout",
     "output_type": "stream",
     "text": [
      "MD5加密前为：this is a md5 test\n",
      "MD5加密后为：d41d8cd98f00b204e9800998ecf8427e\n"
     ]
    }
   ],
   "source": [
    "import hashlib\n",
    "str_ = 'this is a md5 test'\n",
    "hl = hashlib.md5()\n",
    "hl.update(str_.encode(encoding='utf-8'))\n",
    "print('MD5加密前为：'+str_)\n",
    "print('MD5加密后为：'+hl.hexdigest())"
   ]
  },
  {
   "cell_type": "code",
   "execution_count": 29,
   "metadata": {},
   "outputs": [
    {
     "name": "stdout",
     "output_type": "stream",
     "text": [
      "MD5加密前为：123123\n",
      "MD5加密后为：d41d8cd98f00b204e9800998ecf8427e\n"
     ]
    }
   ],
   "source": [
    "import hashlib\n",
    "password= 'this is a md5 test'\n",
    "hl = hashlib.md5()\n",
    "hl.update(str_.encode(encoding='utf-8'))\n",
    "print('MD5加密前为：'+str_)\n",
    "print('MD5加密后为：'+hl.hexdigest())"
   ]
  },
  {
   "cell_type": "markdown",
   "metadata": {},
   "source": [
    "## 转义序列 \\\n",
    "- a = \"He said,\"Johon's program is easy to read\"\n",
    "- 转掉它原来的意思\n",
    "- 一般情况下只有当语句与默认方法相撞的时候，就需要转义"
   ]
  },
  {
   "cell_type": "code",
   "execution_count": 22,
   "metadata": {},
   "outputs": [],
   "source": [
    "a = \"He said,\\\"Johon's program is easy to read\""
   ]
  },
  {
   "cell_type": "markdown",
   "metadata": {},
   "source": [
    "## 高级print\n",
    "- 参数 end： 以什么方式结束打印\n",
    "- 默认换行打印"
   ]
  },
  {
   "cell_type": "code",
   "execution_count": 32,
   "metadata": {},
   "outputs": [
    {
     "name": "stdout",
     "output_type": "stream",
     "text": [
      "ab!"
     ]
    }
   ],
   "source": [
    "print ('a','b',sep='',end='!')"
   ]
  },
  {
   "cell_type": "markdown",
   "metadata": {},
   "source": [
    "## 函数str\n",
    "- 将类型强制转换成字符串类型\n",
    "- 其他一些以后会学到(list,set,tuple...)"
   ]
  },
  {
   "cell_type": "markdown",
   "metadata": {},
   "source": [
    "## 字符串连接操作\n",
    "- 直接使用 “+” \n",
    "- join() 函数 "
   ]
  },
  {
   "cell_type": "markdown",
   "metadata": {},
   "source": [
    "## EP：\n",
    "- 将 “Welcome” “to” \"Python\" 拼接\n",
    "- 将int型 100 与 “joker is a bad man” 拼接\n",
    "- 从控制台读取字符串\n",
    "> 输入一个名字返回夸奖此人"
   ]
  },
  {
   "cell_type": "code",
   "execution_count": 34,
   "metadata": {},
   "outputs": [
    {
     "data": {
      "text/plain": [
       "'Welcome to Python'"
      ]
     },
     "execution_count": 34,
     "metadata": {},
     "output_type": "execute_result"
    }
   ],
   "source": [
    "'Welcome'+' to'+' Python' "
   ]
  },
  {
   "cell_type": "code",
   "execution_count": 36,
   "metadata": {},
   "outputs": [
    {
     "data": {
      "text/plain": [
       "'100 joker is a bad man'"
      ]
     },
     "execution_count": 36,
     "metadata": {},
     "output_type": "execute_result"
    }
   ],
   "source": [
    "'100' + ' joker is a bad man'"
   ]
  },
  {
   "cell_type": "code",
   "execution_count": 3,
   "metadata": {},
   "outputs": [
    {
     "name": "stdout",
     "output_type": "stream",
     "text": [
      "请输入一个人名：韩羽\n",
      "韩羽太帅了\n"
     ]
    }
   ],
   "source": [
    "str_ =str(input('请输入一个人名：'))\n",
    "print (str(str_)+'太帅了')\n"
   ]
  },
  {
   "cell_type": "markdown",
   "metadata": {},
   "source": [
    "## 实例研究：最小数量硬币\n",
    "- 开发一个程序，让用户输入总金额，这是一个用美元和美分表示的浮点值，返回一个由美元、两角五分的硬币、一角的硬币、五分硬币、以及美分个数\n",
    "<img src=\"Photo/Photo/22.png\"></img>"
   ]
  },
  {
   "cell_type": "markdown",
   "metadata": {},
   "source": [
    "- Python弱项，对于浮点型的处理并不是很好，但是处理数据的时候使用的是Numpy类型\n",
    "<img src=\"Photo/Photo/23.png\"></img>"
   ]
  },
  {
   "cell_type": "markdown",
   "metadata": {},
   "source": [
    "## id与type\n",
    "- id 查看内存地址，在判断语句中将会使用\n",
    "- type 查看元素类型"
   ]
  },
  {
   "cell_type": "markdown",
   "metadata": {},
   "source": [
    "## 其他格式化语句见书"
   ]
  },
  {
   "cell_type": "markdown",
   "metadata": {},
   "source": [
    "# Homework\n",
    "- 1\n",
    "<img src=\"Photo/Photo/24.png\"><img>\n",
    "<img src=\"Photo/Photo/25.png\"><img>"
   ]
  },
  {
   "cell_type": "code",
   "execution_count": 23,
   "metadata": {},
   "outputs": [
    {
     "name": "stdout",
     "output_type": "stream",
     "text": [
      "请输入五边形顶点到中心的距离：5.5\n",
      "五边形的面积为： 71.92\n"
     ]
    }
   ],
   "source": [
    "import math\n",
    "r = eval(input('请输入五边形顶点到中心的距离：'))\n",
    "s = 2*r*math.sin(math.pi/5)\n",
    "area = 5*s*s/(4*math.tan(math.pi/5))\n",
    "print ('五边形的面积为：',round(area,2))"
   ]
  },
  {
   "cell_type": "markdown",
   "metadata": {},
   "source": [
    "- 2\n",
    "<img src=\"Photo/Photo/26.png\"><img>"
   ]
  },
  {
   "cell_type": "code",
   "execution_count": 32,
   "metadata": {},
   "outputs": [
    {
     "name": "stdout",
     "output_type": "stream",
     "text": [
      "请输入第一个位置的经度和纬度39.55,-116.25\n",
      "请输入第二个位置的经度和纬度41.5,87.37\n",
      "两点之间的大圆位置为： 10691.79183231593 km\n"
     ]
    }
   ],
   "source": [
    "import math\n",
    "x1,y1=eval (input('请输入第一个位置的经度和纬度'))\n",
    "x1,y1=math.radians(x1),math.radians(y1)\n",
    "x2,y2=eval (input('请输入第二个位置的经度和纬度'))\n",
    "x2,y2=math.radians(x2),math.radians(y2)\n",
    "radius=6371.01\n",
    "d=radius*math.acos(math.sin(x1)*math.sin(x2)+math.cos(x1)*math.cos(x2)*math.cos(y1-y2))\n",
    "print ('两点之间的大圆位置为：',d,'km')\n"
   ]
  },
  {
   "cell_type": "markdown",
   "metadata": {},
   "source": [
    "- 3\n",
    "<img src=\"Photo/Photo/27.png\"><img>"
   ]
  },
  {
   "cell_type": "code",
   "execution_count": 37,
   "metadata": {},
   "outputs": [
    {
     "name": "stdout",
     "output_type": "stream",
     "text": [
      "请输入五角形的边长：5.5\n",
      "面积为 52.04444136781625\n"
     ]
    }
   ],
   "source": [
    "import math\n",
    "s=eval (input('请输入五角形的边长：'))\n",
    "area =(5*s**2)/(4*math.tan(math.pi/5))\n",
    "print ('面积为',area)\n"
   ]
  },
  {
   "cell_type": "markdown",
   "metadata": {},
   "source": [
    "- 4\n",
    "<img src=\"Photo/Photo/28.png\"><img>"
   ]
  },
  {
   "cell_type": "code",
   "execution_count": 41,
   "metadata": {},
   "outputs": [
    {
     "name": "stdout",
     "output_type": "stream",
     "text": [
      "请输入正多边形的边数：5\n",
      "请输入正多边形的边长：6.5\n",
      "面积为： 72.69017017488385\n"
     ]
    }
   ],
   "source": [
    "import math\n",
    "n=eval (input('请输入正多边形的边数：'))\n",
    "s=eval (input('请输入正多边形的边长：'))\n",
    "a=n*s**2\n",
    "area=a/(4*math.tan(math.pi/n))\n",
    "print ('面积为：',area)"
   ]
  },
  {
   "cell_type": "markdown",
   "metadata": {},
   "source": [
    "- 5\n",
    "<img src=\"Photo/Photo/29.png\"><img>\n",
    "<img src=\"Photo/Photo/30.png\"><img>"
   ]
  },
  {
   "cell_type": "code",
   "execution_count": 46,
   "metadata": {},
   "outputs": [
    {
     "name": "stdout",
     "output_type": "stream",
     "text": [
      "请输入一个0-127的一个整数：69\n",
      "输出为： E\n"
     ]
    }
   ],
   "source": [
    "a=int (input('请输入一个0-127的一个整数：'))\n",
    "print ('输出为：',chr(a))"
   ]
  },
  {
   "cell_type": "markdown",
   "metadata": {},
   "source": [
    "- 6\n",
    "<img src=\"Photo/Photo/31.png\"><img>"
   ]
  },
  {
   "cell_type": "code",
   "execution_count": 50,
   "metadata": {},
   "outputs": [
    {
     "name": "stdout",
     "output_type": "stream",
     "text": [
      "输入姓名：hy\n",
      "输入每周工作时间：10\n",
      "输入小时报酬：9.75\n",
      "输入联邦预扣税率：0.2\n",
      "输入州预扣税率：0.09\n",
      "姓名： hy\n",
      "每周工作时间为： 10\n",
      "每小时报酬为： 9.75\n",
      "一周的总报酬为： 97.5\n",
      "联邦应交税： 19.5\n",
      "州应交税： 8.78\n",
      "总税额： 28.27\n",
      "剩余钱数： 69.22\n"
     ]
    }
   ],
   "source": [
    "name =str (input('输入姓名：'))\n",
    "time =eval (input('输入每周工作时间：'))\n",
    "pay =eval (input('输入小时报酬：'))\n",
    "f =eval (input('输入联邦预扣税率：'))\n",
    "s =eval (input('输入州预扣税率：'))\n",
    "yizhou =pay*time\n",
    "fe =yizhou*f\n",
    "st =yizhou*s\n",
    "all=fe+st\n",
    "money =yizhou-all\n",
    "print ('姓名：',name)\n",
    "print ('每周工作时间为：',time)\n",
    "print ('每小时报酬为：',pay)\n",
    "print ('一周的总报酬为：',yizhou)\n",
    "print ('联邦应交税：',round(fe,2))\n",
    "print ('州应交税：',round(st,2))\n",
    "print ('总税额：',round(all,2))\n",
    "print ('剩余钱数：',round(money,2))"
   ]
  },
  {
   "cell_type": "markdown",
   "metadata": {},
   "source": [
    "- 7\n",
    "<img src=\"Photo/Photo/32.png\"><img>"
   ]
  },
  {
   "cell_type": "code",
   "execution_count": 53,
   "metadata": {},
   "outputs": [
    {
     "name": "stdout",
     "output_type": "stream",
     "text": [
      "请随机输入一个四位整数：3125\n",
      "5213\n"
     ]
    }
   ],
   "source": [
    "num = eval (input('请随机输入一个四位整数：'))\n",
    "a=num%10\n",
    "b=num%100//10\n",
    "c=num%1000//100\n",
    "d=num//1000\n",
    "print (a,b,c,d,sep='')"
   ]
  },
  {
   "cell_type": "markdown",
   "metadata": {},
   "source": [
    "- 8 进阶：\n",
    "> 加密一串文本，并将解密后的文件写入本地保存"
   ]
  },
  {
   "cell_type": "code",
   "execution_count": 64,
   "metadata": {},
   "outputs": [
    {
     "name": "stdout",
     "output_type": "stream",
     "text": [
      "输入一串文本>>hanyu\n",
      "MD5加密后为 ：0f64e80696b572976c80d4ab811e4819\n"
     ]
    },
    {
     "ename": "NameError",
     "evalue": "name 'file_handle' is not defined",
     "output_type": "error",
     "traceback": [
      "\u001b[1;31m---------------------------------------------------------------------------\u001b[0m",
      "\u001b[1;31mNameError\u001b[0m                                 Traceback (most recent call last)",
      "\u001b[1;32m<ipython-input-64-74ac31115603>\u001b[0m in \u001b[0;36m<module>\u001b[1;34m()\u001b[0m\n\u001b[0;32m      4\u001b[0m \u001b[0mhl\u001b[0m\u001b[1;33m.\u001b[0m\u001b[0mupdate\u001b[0m\u001b[1;33m(\u001b[0m\u001b[0ma\u001b[0m\u001b[1;33m.\u001b[0m\u001b[0mencode\u001b[0m\u001b[1;33m(\u001b[0m\u001b[0mencoding\u001b[0m\u001b[1;33m=\u001b[0m\u001b[1;34m'utf-8'\u001b[0m\u001b[1;33m)\u001b[0m\u001b[1;33m)\u001b[0m\u001b[1;33m\u001b[0m\u001b[0m\n\u001b[0;32m      5\u001b[0m \u001b[0mprint\u001b[0m\u001b[1;33m(\u001b[0m\u001b[1;34m'MD5加密后为 ：'\u001b[0m \u001b[1;33m+\u001b[0m \u001b[0mhl\u001b[0m\u001b[1;33m.\u001b[0m\u001b[0mhexdigest\u001b[0m\u001b[1;33m(\u001b[0m\u001b[1;33m)\u001b[0m\u001b[1;33m)\u001b[0m\u001b[1;33m\u001b[0m\u001b[0m\n\u001b[1;32m----> 6\u001b[1;33m \u001b[0mfile_handle\u001b[0m\u001b[1;33m.\u001b[0m\u001b[0mwrite\u001b[0m\u001b[1;33m(\u001b[0m\u001b[0ma\u001b[0m\u001b[1;33m)\u001b[0m\u001b[1;33m\u001b[0m\u001b[0m\n\u001b[0m\u001b[0;32m      7\u001b[0m \u001b[0mfile_handle\u001b[0m\u001b[1;33m=\u001b[0m\u001b[0mfile\u001b[0m\u001b[1;33m(\u001b[0m\u001b[1;34m'1.txt'\u001b[0m\u001b[1;33m,\u001b[0m\u001b[0mmode\u001b[0m\u001b[1;33m=\u001b[0m\u001b[1;34m'w'\u001b[0m\u001b[1;33m)\u001b[0m\u001b[1;33m\u001b[0m\u001b[0m\n",
      "\u001b[1;31mNameError\u001b[0m: name 'file_handle' is not defined"
     ]
    }
   ],
   "source": [
    "import hashlib\n",
    "a = input('输入一串文本>>')\n",
    "hl = hashlib.md5()\n",
    "hl.update(a.encode(encoding='utf-8'))\n",
    "print('MD5加密后为 ：' + hl.hexdigest())\n",
    "file_handle.write(a)\n",
    "file_handle=file('1.txt',mode='w')"
   ]
  }
 ],
 "metadata": {
  "kernelspec": {
   "display_name": "Python 3",
   "language": "python",
   "name": "python3"
  }
 },
 "nbformat": 4,
 "nbformat_minor": 2
}
